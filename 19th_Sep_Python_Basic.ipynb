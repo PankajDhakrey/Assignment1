{
 "cells": [
  {
   "cell_type": "markdown",
   "id": "f661bd97-aba5-4630-a741-9d1a0d2f0a6f",
   "metadata": {},
   "source": [
    "1. Declare two variables, `x` and `y`, and assign them integer values. Swap the\n",
    "values of these variables without using any temporary variable."
   ]
  },
  {
   "cell_type": "code",
   "execution_count": 1,
   "id": "060fe64b-973c-42b6-9c3e-c298d4081b5f",
   "metadata": {},
   "outputs": [],
   "source": [
    "x=20\n",
    "y=30"
   ]
  },
  {
   "cell_type": "code",
   "execution_count": 2,
   "id": "5fa73731-256a-44c8-a6da-677aac355a32",
   "metadata": {},
   "outputs": [
    {
     "data": {
      "text/plain": [
       "int"
      ]
     },
     "execution_count": 2,
     "metadata": {},
     "output_type": "execute_result"
    }
   ],
   "source": [
    "type(x)"
   ]
  },
  {
   "cell_type": "code",
   "execution_count": 3,
   "id": "1d205c0d-1b67-4c31-b49e-63d75ed09261",
   "metadata": {},
   "outputs": [
    {
     "data": {
      "text/plain": [
       "int"
      ]
     },
     "execution_count": 3,
     "metadata": {},
     "output_type": "execute_result"
    }
   ],
   "source": [
    "type(y)"
   ]
  },
  {
   "cell_type": "code",
   "execution_count": 4,
   "id": "4e71e35a-815f-48a4-930b-bf23ca717a44",
   "metadata": {},
   "outputs": [],
   "source": [
    "# Using this formula we can exchange the value of variables.without using any temporary variable.\n",
    "x,y=y,x"
   ]
  },
  {
   "cell_type": "code",
   "execution_count": 5,
   "id": "b6fec20b-6b68-43a5-829e-b359e978d8e5",
   "metadata": {},
   "outputs": [
    {
     "data": {
      "text/plain": [
       "30"
      ]
     },
     "execution_count": 5,
     "metadata": {},
     "output_type": "execute_result"
    }
   ],
   "source": [
    "x"
   ]
  },
  {
   "cell_type": "code",
   "execution_count": 6,
   "id": "ca4a6565-ac72-400e-99a0-f789d00808f5",
   "metadata": {},
   "outputs": [
    {
     "data": {
      "text/plain": [
       "20"
      ]
     },
     "execution_count": 6,
     "metadata": {},
     "output_type": "execute_result"
    }
   ],
   "source": [
    "y"
   ]
  },
  {
   "cell_type": "markdown",
   "id": "4b921a42-7a54-4e45-889a-cab819d75500",
   "metadata": {},
   "source": [
    "2. Create a program that calculates the area of a rectangle. Take the length and\n",
    "width as inputs from the user and store them in variables. Calculate and\n",
    "display the area."
   ]
  },
  {
   "cell_type": "code",
   "execution_count": 7,
   "id": "dcb1d10c-3c4d-465d-9e83-0ce56acb0624",
   "metadata": {},
   "outputs": [
    {
     "name": "stdin",
     "output_type": "stream",
     "text": [
      "Enter the length of rectangle 28\n",
      "Enter the width of rectangle 22\n"
     ]
    },
    {
     "name": "stdout",
     "output_type": "stream",
     "text": [
      "Area of reactangle 616.0\n"
     ]
    }
   ],
   "source": [
    "l=float(input(\"Enter the length of rectangle\"))\n",
    "w=float(input(\"Enter the width of rectangle\"))\n",
    "\n",
    "#Area of rectangle = length*width, by help of this formula we can calculate.\n",
    "area=l*w\n",
    "print('Area of reactangle', area)"
   ]
  },
  {
   "cell_type": "markdown",
   "id": "4038a33d-1bff-4c9e-8088-e05b052106bb",
   "metadata": {},
   "source": [
    "3. Write a Python program that converts temperatures from Celsius to\n",
    "Fahrenheit. Take the temperature in Celsius as input, store it in a variable,\n",
    "convert it to Fahrenheit, and display the result."
   ]
  },
  {
   "cell_type": "code",
   "execution_count": 8,
   "id": "4119220d-44ee-401d-b223-40bf421f9604",
   "metadata": {},
   "outputs": [
    {
     "name": "stdin",
     "output_type": "stream",
     "text": [
      "Enter the temprature 22\n"
     ]
    },
    {
     "name": "stdout",
     "output_type": "stream",
     "text": [
      "Fahrenheit= 71.6\n"
     ]
    }
   ],
   "source": [
    "c=int(input(\"Enter the temprature\"))\n",
    "f=(c*1.8)+32\n",
    "print('Fahrenheit=',f)"
   ]
  },
  {
   "cell_type": "markdown",
   "id": "fd6e57c1-c738-4e83-a45a-2e625ccab231",
   "metadata": {},
   "source": [
    "------------------------------------------------------------------------------------------------------------------------------------------\n",
    "\n",
    "TOPIC: String Based Questions"
   ]
  },
  {
   "cell_type": "markdown",
   "id": "7d07f410-99c0-43b9-a2d2-6d305d5c75dd",
   "metadata": {},
   "source": [
    "1. Write a Python program that takes a string as input and prints the length of\n",
    "the string."
   ]
  },
  {
   "cell_type": "code",
   "execution_count": 9,
   "id": "fd41921e-a930-4a7d-9927-75df25eb5a6b",
   "metadata": {},
   "outputs": [
    {
     "name": "stdin",
     "output_type": "stream",
     "text": [
      "Enter the string: This is my frist assignment\n"
     ]
    },
    {
     "name": "stdout",
     "output_type": "stream",
     "text": [
      "length of the string 27\n"
     ]
    }
   ],
   "source": [
    "s = (input(\"Enter the string:\"))\n",
    "\n",
    "print(\"length of the string\",len(s))"
   ]
  },
  {
   "cell_type": "markdown",
   "id": "c6159c02-8208-43b6-8769-d9a5a8a24173",
   "metadata": {},
   "source": [
    "2. Create a program that takes a sentence from the user and counts the number\n",
    "of vowels (a, e, i, o, u) in the string."
   ]
  },
  {
   "cell_type": "code",
   "execution_count": 15,
   "id": "85aa5526-7534-457b-b1b1-6fe08008be50",
   "metadata": {},
   "outputs": [
    {
     "name": "stdin",
     "output_type": "stream",
     "text": [
      "Enter the string, PW skill is the best option for the data science\n"
     ]
    },
    {
     "name": "stdout",
     "output_type": "stream",
     "text": [
      "Number of vowels are: 14\n"
     ]
    }
   ],
   "source": [
    "x=input(\"Enter the string,\")\n",
    "\n",
    "vowels=0\n",
    "for i in x:\n",
    "      if(i=='a' or i=='e' or i=='i' or i=='o' or i=='u' or i=='A' or i=='E' or i=='I' or i=='O' or i=='U'):\n",
    "            vowels=vowels+1\n",
    "         \n",
    "    \n",
    "print(\"Number of vowels are:\",vowels)"
   ]
  },
  {
   "cell_type": "markdown",
   "id": "e8fd17c8-5b4a-499f-86c6-00e6233023d2",
   "metadata": {},
   "source": [
    "3. Given a string, reverse the order of characters using string slicing and print\n",
    "the reversed string."
   ]
  },
  {
   "cell_type": "code",
   "execution_count": 11,
   "id": "8889a518-0afe-429d-8d87-bdd1a7b74100",
   "metadata": {},
   "outputs": [
    {
     "data": {
      "text/plain": [
       "'Hello pwskills'"
      ]
     },
     "execution_count": 11,
     "metadata": {},
     "output_type": "execute_result"
    }
   ],
   "source": [
    "x=\"Hello pwskills\"\n",
    "x"
   ]
  },
  {
   "cell_type": "code",
   "execution_count": 12,
   "id": "5aaadd3d-e74d-4fd7-9508-fa7811187dc8",
   "metadata": {},
   "outputs": [
    {
     "data": {
      "text/plain": [
       "'sllikswp olleH'"
      ]
     },
     "execution_count": 12,
     "metadata": {},
     "output_type": "execute_result"
    }
   ],
   "source": [
    "x[::-1]"
   ]
  },
  {
   "cell_type": "markdown",
   "id": "04032129-48e0-4cf0-a97a-776efe5d933b",
   "metadata": {},
   "source": [
    "4. Write a program that takes a string as input and checks if it is a palindrome\n",
    "(reads the same forwards and backwards)."
   ]
  },
  {
   "cell_type": "code",
   "execution_count": 13,
   "id": "a4171b7f-d485-4cb8-bca4-df39477bff46",
   "metadata": {},
   "outputs": [
    {
     "name": "stdin",
     "output_type": "stream",
     "text": [
      "Enter a string:  Pankaj Dhakrey\n"
     ]
    },
    {
     "name": "stdout",
     "output_type": "stream",
     "text": [
      "string is not a palindrome.\n"
     ]
    }
   ],
   "source": [
    "s1= input(\"Enter a string: \")\n",
    "\n",
    "s2= s1.replace(\" \", \"\").lower()\n",
    "\n",
    "s3 = s2[::-1]\n",
    "\n",
    "if s2 == s3:\n",
    "    print(\"string is a palindrome.\")\n",
    "else:\n",
    "    print(\"string is not a palindrome.\")\n"
   ]
  },
  {
   "cell_type": "markdown",
   "id": "f51c594b-5836-4c30-b07b-bba40deb36e6",
   "metadata": {},
   "source": [
    "5. Create a program that takes a string as input and removes all the spaces from\n",
    "it. Print the modified string without spaces."
   ]
  },
  {
   "cell_type": "code",
   "execution_count": 14,
   "id": "853ab71f-3d4d-4c29-8684-4b6623a48123",
   "metadata": {},
   "outputs": [
    {
     "name": "stdin",
     "output_type": "stream",
     "text": [
      "Enter a string:  PW Skills\n"
     ]
    },
    {
     "name": "stdout",
     "output_type": "stream",
     "text": [
      "string without spaces: PWSkills\n"
     ]
    }
   ],
   "source": [
    "string = input(\"Enter a string: \")\n",
    "\n",
    "new_string = \"\"\n",
    "\n",
    "for char in string:\n",
    "    if char != \" \":\n",
    "        new_string += char\n",
    "print(\"string without spaces:\", new_string)"
   ]
  }
 ],
 "metadata": {
  "kernelspec": {
   "display_name": "Python 3 (ipykernel)",
   "language": "python",
   "name": "python3"
  },
  "language_info": {
   "codemirror_mode": {
    "name": "ipython",
    "version": 3
   },
   "file_extension": ".py",
   "mimetype": "text/x-python",
   "name": "python",
   "nbconvert_exporter": "python",
   "pygments_lexer": "ipython3",
   "version": "3.10.8"
  }
 },
 "nbformat": 4,
 "nbformat_minor": 5
}
